{
 "cells": [
  {
   "cell_type": "code",
   "execution_count": 1,
   "metadata": {},
   "outputs": [
    {
     "name": "stderr",
     "output_type": "stream",
     "text": [
      "Using TensorFlow backend.\n"
     ]
    }
   ],
   "source": [
    "import keras"
   ]
  },
  {
   "cell_type": "code",
   "execution_count": 58,
   "metadata": {},
   "outputs": [],
   "source": [
    "INPUT_SHAPE = (84, 84)\n",
    "WINDOW_LENGTH = 4\n",
    "\n",
    "def create_model():\n",
    "    input_shape = (WINDOW_LENGTH, INPUT_SHAPE[0], INPUT_SHAPE[1])\n",
    "    frame = keras.layers.Input(shape=(input_shape))\n",
    "    cv1 = keras.layers.Convolution2D(32, kernel_size=(8,8), strides=4, activation='relu', data_format='channels_first')(frame)\n",
    "    cv2 = keras.layers.Convolution2D(64, kernel_size=(4,4), strides=2, activation='relu', data_format='channels_first')(cv1)\n",
    "    cv3 = keras.layers.Convolution2D(64, kernel_size=(3,3), strides=1, activation='relu', data_format='channels_first')(cv2)\n",
    "    dense= keras.layers.Flatten()(cv3)\n",
    "    dense = keras.layers.Dense(512, activation='relu')(dense)\n",
    "    buttons = keras.layers.Dense(10, activation='linear')(dense)\n",
    "    model = keras.models.Model(inputs=frame,outputs=buttons)\n",
    "    return model \n",
    "\n",
    "def load_trained_model(weights_path):\n",
    "    model = create_model()\n",
    "    model.load_weights(weights_path)"
   ]
  },
  {
   "cell_type": "code",
   "execution_count": 59,
   "metadata": {},
   "outputs": [],
   "source": [
    "weight_path = 'git/AdvancedPacmanDQNs/model_saves/PDD/pdd_dqn_MsPacmanDeterministic-v4_weights_10000000.h5f'"
   ]
  },
  {
   "cell_type": "code",
   "execution_count": 60,
   "metadata": {
    "scrolled": false
   },
   "outputs": [],
   "source": [
    "model = create_model()\n",
    "model.load_weights(weight_path)"
   ]
  },
  {
   "cell_type": "code",
   "execution_count": 44,
   "metadata": {},
   "outputs": [
    {
     "name": "stdout",
     "output_type": "stream",
     "text": [
      "Populating the interactive namespace from numpy and matplotlib\n"
     ]
    }
   ],
   "source": [
    "%pylab inline"
   ]
  },
  {
   "cell_type": "code",
   "execution_count": 63,
   "metadata": {},
   "outputs": [],
   "source": [
    "tes = 255*np.random.rand(1, 4, 84, 84)\n",
    "\n",
    "result = model.predict_on_batch(tes)"
   ]
  },
  {
   "cell_type": "code",
   "execution_count": 64,
   "metadata": {},
   "outputs": [
    {
     "name": "stdout",
     "output_type": "stream",
     "text": [
      "[ 2639.5786 -1673.2161 -1818.0153 -1549.7053 -1696.8522 -1742.1417\n",
      " -1756.2266 -1748.5344 -1649.4546 -1775.729 ]\n"
     ]
    }
   ],
   "source": [
    "print(result[0])"
   ]
  },
  {
   "cell_type": "code",
   "execution_count": null,
   "metadata": {},
   "outputs": [],
   "source": []
  }
 ],
 "metadata": {
  "kernelspec": {
   "display_name": "Python 3",
   "language": "python",
   "name": "python3"
  },
  "language_info": {
   "codemirror_mode": {
    "name": "ipython",
    "version": 3
   },
   "file_extension": ".py",
   "mimetype": "text/x-python",
   "name": "python",
   "nbconvert_exporter": "python",
   "pygments_lexer": "ipython3",
   "version": "3.5.4"
  }
 },
 "nbformat": 4,
 "nbformat_minor": 2
}
